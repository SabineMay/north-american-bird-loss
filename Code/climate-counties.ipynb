{
 "cells": [
  {
   "cell_type": "code",
   "execution_count": 84,
   "metadata": {},
   "outputs": [],
   "source": [
    "import pandas as pd\n",
    "import os\n",
    "import numpy as np\n",
    "import requests\n",
    "\n",
    "current_dir = os.getcwd()"
   ]
  },
  {
   "cell_type": "markdown",
   "metadata": {},
   "source": [
    "Before we begin processing our climate data, there's a problem here: The NOAA, which is the organization which we are scraping data from, uses a different set of state codes compared to FIPS state codes. In order to fix this, we need to make a dictionary which maps the NOAA's state codes to FIPS state codes, and then combine the FIPS state code with the county state code to create the proper FIPS code used in the rest of our datasets,"
   ]
  },
  {
   "cell_type": "code",
   "execution_count": 85,
   "metadata": {},
   "outputs": [],
   "source": [
    "# Mapping of custom state codes to FIPS state codes\n",
    "state_code_mapping = {\n",
    "    '01': '01', '02': '04', '03': '05', '04': '06', '05': '08', '06': '09', '07': '10', '08': '12', '09': '13',\n",
    "    '10': '16', '11': '17', '12': '18', '13': '19', '14': '20', '15': '21', '16': '22', '17': '23', '18': '24',\n",
    "    '19': '25', '20': '26', '21': '27', '22': '28', '23': '29', '24': '30', '25': '31', '26': '32', '27': '33',\n",
    "    '28': '34', '29': '35', '30': '36', '31': '37', '32': '38', '33': '39', '34': '40', '35': '41', '36': '42',\n",
    "    '37': '44', '38': '45', '39': '46', '40': '47', '41': '48', '42': '49', '43': '50', '44': '51', '45': '53',\n",
    "    '46': '54', '47': '55', '48': '56', '50': '02'\n",
    "}"
   ]
  },
  {
   "cell_type": "code",
   "execution_count": 86,
   "metadata": {},
   "outputs": [],
   "source": [
    "# URLs we are scraping\n",
    "urls = {\n",
    "    'Avg_Temp': \"https://www.ncei.noaa.gov/pub/data/cirs/climdiv/climdiv-tmpccy-v1.0.0-20240506\",\n",
    "    'Max_Temp': \"https://www.ncei.noaa.gov/pub/data/cirs/climdiv/climdiv-tmaxcy-v1.0.0-20240506\",\n",
    "    'Min_Temp': \"https://www.ncei.noaa.gov/pub/data/cirs/climdiv/climdiv-tmincy-v1.0.0-20240506\",\n",
    "    'Precipitation': \"https://www.ncei.noaa.gov/pub/data/cirs/climdiv/climdiv-pcpncy-v1.0.0-20240506\"\n",
    "}"
   ]
  },
  {
   "cell_type": "code",
   "execution_count": 87,
   "metadata": {},
   "outputs": [],
   "source": [
    "# Array of DataFrames we are appending to\n",
    "dfs_climate = []\n",
    "\n",
    "# Iterate through each URL\n",
    "for var, url in urls.items():\n",
    "    # Fetching data from given URL\n",
    "    response = requests.get(url)\n",
    "    data = response.text\n",
    "    \n",
    "    # Parse data into DataFrame\n",
    "    lines = data.strip().split('\\n')\n",
    "    \n",
    "    parsed_data = []\n",
    "    \n",
    "    for line in lines:\n",
    "        identification_number = line[:11]\n",
    "        state_code = identification_number[:2]\n",
    "        county_FIPS = identification_number[2:5]\n",
    "        year = int(identification_number[7:11])\n",
    "        \n",
    "        monthly_data = line[11:].split()\n",
    "        \n",
    "        # Combine state_code and county_FIPS to form the FIPS code\n",
    "        state_fips_code = state_code_mapping.get(state_code, state_code)\n",
    "        fips_code = int(state_fips_code + county_FIPS)\n",
    "        \n",
    "        row = {'FIPS': fips_code, 'State_Code': state_code, 'County_FIPS': county_FIPS, 'Year': year, **{f'month_{i}': float(val) for i, val in enumerate(monthly_data, start=1)}}\n",
    "        \n",
    "        # Filter parsed data so only data between 1966-2022 is collected\n",
    "        if year >= 1966 and year <= 2022:\n",
    "            parsed_data.append(row)\n",
    "    \n",
    "    # Create DataFrame\n",
    "    df = pd.DataFrame(parsed_data)\n",
    "    \n",
    "    # Consolidate data from monthly to yearly\n",
    "    if var == 'Avg_Temp':\n",
    "        df['Avg_Temp'] = df[[f'month_{i}' for i in range(1, 13)]].mean(axis=1)\n",
    "        df = df[['FIPS', 'State_Code', 'County_FIPS', 'Year', 'Avg_Temp']]\n",
    "    elif var == 'Max_Temp':\n",
    "        df['Max_Temp'] = df[[f'month_{i}' for i in range(1, 13)]].max(axis=1)\n",
    "        df = df[['FIPS', 'State_Code', 'County_FIPS', 'Year', 'Max_Temp']]\n",
    "    elif var == 'Min_Temp':\n",
    "        df['Min_Temp'] = df[[f'month_{i}' for i in range(1, 13)]].min(axis=1)\n",
    "        df = df[['FIPS', 'State_Code', 'County_FIPS', 'Year', 'Min_Temp']]\n",
    "    elif var == 'Precipitation':\n",
    "        df['Total_Precip'] = df[[f'month_{i}' for i in range(1, 13)]].sum(axis=1)\n",
    "        df = df[['FIPS', 'State_Code', 'County_FIPS', 'Year', 'Total_Precip']]\n",
    "    \n",
    "    # Append DataFrame array of DataFrames\n",
    "    dfs_climate.append(df)"
   ]
  },
  {
   "cell_type": "code",
   "execution_count": 88,
   "metadata": {},
   "outputs": [
    {
     "data": {
      "text/html": [
       "<div>\n",
       "<style scoped>\n",
       "    .dataframe tbody tr th:only-of-type {\n",
       "        vertical-align: middle;\n",
       "    }\n",
       "\n",
       "    .dataframe tbody tr th {\n",
       "        vertical-align: top;\n",
       "    }\n",
       "\n",
       "    .dataframe thead th {\n",
       "        text-align: right;\n",
       "    }\n",
       "</style>\n",
       "<table border=\"1\" class=\"dataframe\">\n",
       "  <thead>\n",
       "    <tr style=\"text-align: right;\">\n",
       "      <th></th>\n",
       "      <th>FIPS</th>\n",
       "      <th>State_Code</th>\n",
       "      <th>County_FIPS</th>\n",
       "      <th>Year</th>\n",
       "      <th>Avg_Temp</th>\n",
       "      <th>Max_Temp</th>\n",
       "      <th>Min_Temp</th>\n",
       "      <th>Total_Precip</th>\n",
       "    </tr>\n",
       "  </thead>\n",
       "  <tbody>\n",
       "    <tr>\n",
       "      <th>0</th>\n",
       "      <td>1001</td>\n",
       "      <td>01</td>\n",
       "      <td>001</td>\n",
       "      <td>1966</td>\n",
       "      <td>62.391667</td>\n",
       "      <td>93.3</td>\n",
       "      <td>32.2</td>\n",
       "      <td>57.23</td>\n",
       "    </tr>\n",
       "    <tr>\n",
       "      <th>1</th>\n",
       "      <td>1001</td>\n",
       "      <td>01</td>\n",
       "      <td>001</td>\n",
       "      <td>1967</td>\n",
       "      <td>62.541667</td>\n",
       "      <td>88.1</td>\n",
       "      <td>34.9</td>\n",
       "      <td>56.32</td>\n",
       "    </tr>\n",
       "    <tr>\n",
       "      <th>2</th>\n",
       "      <td>1001</td>\n",
       "      <td>01</td>\n",
       "      <td>001</td>\n",
       "      <td>1968</td>\n",
       "      <td>61.633333</td>\n",
       "      <td>92.4</td>\n",
       "      <td>29.5</td>\n",
       "      <td>43.67</td>\n",
       "    </tr>\n",
       "    <tr>\n",
       "      <th>3</th>\n",
       "      <td>1001</td>\n",
       "      <td>01</td>\n",
       "      <td>001</td>\n",
       "      <td>1969</td>\n",
       "      <td>62.058333</td>\n",
       "      <td>92.5</td>\n",
       "      <td>32.3</td>\n",
       "      <td>48.11</td>\n",
       "    </tr>\n",
       "    <tr>\n",
       "      <th>4</th>\n",
       "      <td>1001</td>\n",
       "      <td>01</td>\n",
       "      <td>001</td>\n",
       "      <td>1970</td>\n",
       "      <td>62.666667</td>\n",
       "      <td>92.1</td>\n",
       "      <td>28.1</td>\n",
       "      <td>50.06</td>\n",
       "    </tr>\n",
       "  </tbody>\n",
       "</table>\n",
       "</div>"
      ],
      "text/plain": [
       "   FIPS State_Code County_FIPS  Year   Avg_Temp  Max_Temp  Min_Temp  \\\n",
       "0  1001         01         001  1966  62.391667      93.3      32.2   \n",
       "1  1001         01         001  1967  62.541667      88.1      34.9   \n",
       "2  1001         01         001  1968  61.633333      92.4      29.5   \n",
       "3  1001         01         001  1969  62.058333      92.5      32.3   \n",
       "4  1001         01         001  1970  62.666667      92.1      28.1   \n",
       "\n",
       "   Total_Precip  \n",
       "0         57.23  \n",
       "1         56.32  \n",
       "2         43.67  \n",
       "3         48.11  \n",
       "4         50.06  "
      ]
     },
     "execution_count": 88,
     "metadata": {},
     "output_type": "execute_result"
    }
   ],
   "source": [
    "# Merge all DataFrames into a single DataFrame\n",
    "merged_df_climate = dfs_climate[0]\n",
    "\n",
    "for df in dfs_climate[1:]:\n",
    "    merged_df_climate = pd.merge(merged_df_climate, df, on=['FIPS', 'State_Code', 'County_FIPS', 'Year'], how='outer')\n",
    "\n",
    "merged_df_climate.head()"
   ]
  },
  {
   "cell_type": "code",
   "execution_count": 89,
   "metadata": {},
   "outputs": [
    {
     "name": "stdout",
     "output_type": "stream",
     "text": [
      "Empty DataFrame\n",
      "Columns: [FIPS, State_Code, County_FIPS, Year, Avg_Temp, Max_Temp, Min_Temp, Total_Precip]\n",
      "Index: []\n"
     ]
    }
   ],
   "source": [
    "rows_with_nan = merged_df_climate[merged_df_climate.isna().any(axis=1)].copy()\n",
    "print(rows_with_nan)"
   ]
  },
  {
   "cell_type": "code",
   "execution_count": 90,
   "metadata": {},
   "outputs": [],
   "source": [
    "# Put merged DataFrame into a CSV for easier access\n",
    "# merged_df_climate.to_csv('Climate_Data_with_FIPS.csv', index=False)\n",
    "merged_df_climate.to_csv(os.path.join(current_dir, '..', 'SharedData', 'Climate_Data_with_FIPS.csv'), index=False)"
   ]
  },
  {
   "cell_type": "code",
   "execution_count": null,
   "metadata": {},
   "outputs": [],
   "source": []
  }
 ],
 "metadata": {
  "kernelspec": {
   "display_name": "Python 3",
   "language": "python",
   "name": "python3"
  },
  "language_info": {
   "codemirror_mode": {
    "name": "ipython",
    "version": 3
   },
   "file_extension": ".py",
   "mimetype": "text/x-python",
   "name": "python",
   "nbconvert_exporter": "python",
   "pygments_lexer": "ipython3",
   "version": "3.11.5"
  }
 },
 "nbformat": 4,
 "nbformat_minor": 2
}
