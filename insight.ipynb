{
 "cells": [
  {
   "cell_type": "markdown",
   "metadata": {},
   "source": [
    "In this part of the data science pipeline, we interpret what our visualizations and models are telling us about the data. We considered a wide variety of factors and tested them for significance in their effects on bird population. \n",
    "\n",
    "Based on our analysis, we found the following main points to be true:\n",
    "\n",
    "1. Bird populations are decreasing drastically each year. We see this in the \"birds per route\" metric; each year, birders find less birds at each route on average, suggesting that, overall, there are less birds present. Even as the scale of the Breeding Bird Survey increases (more routes), we are counting less birds than expected.\n",
    "2. Many environmental factors, such as tree cover/forest abundance and temperatures have also experienced dramatic changes over time.\n",
    "3. Tree cover loss/deforestation is a significant predictor of bird population decline, especially for birds which live and breed in forested areas.\n",
    "4. Highly populated urban areas cause more significant loss bird population decline.\n",
    "5. Areas with greater commercial building density also have greater bird population decline.\n",
    "6. Temperature changes related to climate change may also play a role in bird population decline.\n",
    "\n",
    "These results inform us on some important policy decisions which can be made to mitigate bird (and overall biodiversity) population loss in the future. On a local scale or national scale, we can help birds survive by maintaining tree coverage, even in urban areas, by keeping more natural areas in our developments, and by taking steps to reduce the effects of climate change on a larger scale. \n",
    "\n",
    "The Earth is changing, in large part due to human activity. By adjusting our ways of life, we can help protect the biodiversity which makes Earth so special. In this project, we focused on birds, due to their importance in almost all ecosystems on Earth. Birds are abundant, but we cannot take their positive impacts on the planet for granted. As the data tells us, without making a change, birds, other animals, and perhaps even humans will experience many hardships in the years to come.\n",
    "\n",
    "We hope this tutorial has given you a good overview of the data science pipeline: collecting data, processing it into useful forms, visualizing and exploring what the data show, analyzing the data with machine learning, and gaining insight from what each step shows us. Environmental conservation is a fantastic and challenging application of data science, and a field which could benefit from new and creative solutions. We encourage you to apply data science to your own questions, and perhaps we can use what we learn to build a better world. As an example of this kind of work, check out [Computational Sustainability](https://computational-sustainability.cis.cornell.edu/), a partnership pioneered by Cornell and several other universities which applies computational power to all facets of sustainability."
   ]
  }
 ],
 "metadata": {
  "language_info": {
   "name": "python"
  }
 },
 "nbformat": 4,
 "nbformat_minor": 2
}
